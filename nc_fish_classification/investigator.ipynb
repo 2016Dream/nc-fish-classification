{
 "cells": [
  {
   "cell_type": "code",
   "execution_count": 1,
   "metadata": {
    "collapsed": false
   },
   "outputs": [],
   "source": [
    "import os\n",
    "import numpy as np\n",
    "import matplotlib.pyplot as plt\n",
    "\n",
    "from glob import glob\n",
    "from PIL import Image\n",
    "\n",
    "%matplotlib inline"
   ]
  },
  {
   "cell_type": "code",
   "execution_count": 2,
   "metadata": {
    "collapsed": true
   },
   "outputs": [],
   "source": [
    "path = 'data/cropped/train/'"
   ]
  },
  {
   "cell_type": "code",
   "execution_count": 3,
   "metadata": {
    "collapsed": true
   },
   "outputs": [],
   "source": [
    "nof = glob(path+'NoF/*.jpg')\n",
    "alb = glob(path+'ALB/*.jpg')"
   ]
  },
  {
   "cell_type": "code",
   "execution_count": 4,
   "metadata": {
    "collapsed": false
   },
   "outputs": [
    {
     "name": "stdout",
     "output_type": "stream",
     "text": [
      "448\n",
      "1724\n"
     ]
    }
   ],
   "source": [
    "print(len(nof))\n",
    "print(len(alb))"
   ]
  },
  {
   "cell_type": "code",
   "execution_count": 7,
   "metadata": {
    "collapsed": false
   },
   "outputs": [
    {
     "name": "stdout",
     "output_type": "stream",
     "text": [
      "Max height: 336\n",
      "Min height: 111\n",
      "Avg height: 261.375\n",
      "Max width: 336\n",
      "Min width: 111\n",
      "Avg width: 261.3861607142857\n"
     ]
    }
   ],
   "source": [
    "max_ht = 0\n",
    "max_wt = 0\n",
    "min_ht = 10000\n",
    "min_wt = 10000\n",
    "sum_ht = 0\n",
    "sum_wt = 0\n",
    "\n",
    "cls = nof \n",
    "\n",
    "for im in cls:\n",
    "    im = Image.open(im)\n",
    "    ht = im.size[1]\n",
    "    wt = im.size[0]\n",
    "    \n",
    "    if ht > max_ht:\n",
    "        max_ht = ht\n",
    "    if wt > max_wt:\n",
    "        max_wt = wt\n",
    "    \n",
    "    if ht < min_ht:\n",
    "        min_ht = ht\n",
    "    if wt < min_wt:\n",
    "        min_wt = wt\n",
    "        \n",
    "    sum_ht += ht\n",
    "    sum_wt += wt\n",
    "    \n",
    "avg_ht = sum_ht / len(cls)\n",
    "avg_wt = sum_wt / len(cls)\n",
    "    \n",
    "print(\"Max height:\", max_ht)\n",
    "print(\"Min height:\", min_ht)\n",
    "print(\"Avg height:\", avg_ht)\n",
    "\n",
    "print(\"Max width:\", max_wt)\n",
    "print(\"Min width:\", min_wt)\n",
    "print(\"Avg width:\", avg_wt)\n"
   ]
  }
 ],
 "metadata": {
  "kernelspec": {
   "display_name": "Python [conda root]",
   "language": "python",
   "name": "conda-root-py"
  },
  "language_info": {
   "codemirror_mode": {
    "name": "ipython",
    "version": 3
   },
   "file_extension": ".py",
   "mimetype": "text/x-python",
   "name": "python",
   "nbconvert_exporter": "python",
   "pygments_lexer": "ipython3",
   "version": "3.5.2"
  }
 },
 "nbformat": 4,
 "nbformat_minor": 1
}
